{
  "nbformat": 4,
  "nbformat_minor": 0,
  "metadata": {
    "colab": {
      "provenance": []
    },
    "kernelspec": {
      "name": "python3",
      "display_name": "Python 3"
    },
    "language_info": {
      "name": "python"
    }
  },
  "cells": [
    {
      "cell_type": "code",
      "source": [
        "import numpy as np\n",
        "import matplotlib.pyplot as plt"
      ],
      "metadata": {
        "id": "nTm-dpXBtPqK"
      },
      "execution_count": null,
      "outputs": []
    },
    {
      "cell_type": "code",
      "source": [
        "from google.colab import drive\n",
        "drive.mount('/content/drive')"
      ],
      "metadata": {
        "colab": {
          "base_uri": "https://localhost:8080/"
        },
        "id": "QmWt4V7F7Y6t",
        "outputId": "d2a56cb6-c6c5-476e-da98-7fb59d744887"
      },
      "execution_count": null,
      "outputs": [
        {
          "output_type": "stream",
          "name": "stdout",
          "text": [
            "Mounted at /content/drive\n"
          ]
        }
      ]
    },
    {
      "cell_type": "code",
      "source": [
        "import numpy as np\n",
        "file_path = '/content/drive/My Drive/CarCrash/vgg16_features/positive/000001.npz'\n",
        "data = np.load(file_path)"
      ],
      "metadata": {
        "id": "B-9kdo9d7a0o"
      },
      "execution_count": null,
      "outputs": []
    },
    {
      "cell_type": "code",
      "source": [
        "data"
      ],
      "metadata": {
        "colab": {
          "base_uri": "https://localhost:8080/"
        },
        "id": "LNgkF0mo7goj",
        "outputId": "6e4a0222-23d9-4a98-9604-f467c26e3b5d"
      },
      "execution_count": null,
      "outputs": [
        {
          "output_type": "execute_result",
          "data": {
            "text/plain": [
              "<numpy.lib.npyio.NpzFile at 0x7fc681564700>"
            ]
          },
          "metadata": {},
          "execution_count": 3
        }
      ]
    },
    {
      "cell_type": "code",
      "execution_count": null,
      "metadata": {
        "id": "kjWyhIWepETq"
      },
      "outputs": [],
      "source": [
        "\n",
        "# Extract the arrays using the keys provided\n",
        "data_array = data['data']\n",
        "det_array = data['det']\n",
        "labels_array = data['labels']\n",
        "id_value = data['ID']\n",
        "\n",
        "# Return the shapes of the arrays to understand their structure\n",
        "data_array_shape = data_array.shape\n",
        "det_array_shape = det_array.shape\n",
        "labels_array_shape = labels_array.shape\n",
        "id_value_shape = np.array(id_value).shape  # Make ID a numpy array to check shape\n"
      ]
    },
    {
      "cell_type": "code",
      "source": [
        "print(data_array.shape)\n",
        "print(det_array.shape)\n",
        "print(labels_array.shape)\n",
        "np.array(id_value).shape  # Make ID a numpy array to check shape"
      ],
      "metadata": {
        "colab": {
          "base_uri": "https://localhost:8080/"
        },
        "id": "poAIaHFg7sFm",
        "outputId": "0c505fc3-e9dc-4cf2-84cf-7c14a74b8b10"
      },
      "execution_count": null,
      "outputs": [
        {
          "output_type": "stream",
          "name": "stdout",
          "text": [
            "(50, 20, 4096)\n",
            "(50, 19, 6)\n",
            "(2,)\n"
          ]
        },
        {
          "output_type": "execute_result",
          "data": {
            "text/plain": [
              "()"
            ]
          },
          "metadata": {},
          "execution_count": 6
        }
      ]
    },
    {
      "cell_type": "code",
      "source": [
        "np.unique(det_array)"
      ],
      "metadata": {
        "id": "q4QjHaOn8XMz",
        "outputId": "a55e1989-8ef1-4c3b-84d9-a042229f4610",
        "colab": {
          "base_uri": "https://localhost:8080/"
        }
      },
      "execution_count": null,
      "outputs": [
        {
          "output_type": "execute_result",
          "data": {
            "text/plain": [
              "array([0.000e+00, 1.000e+00, 2.000e+00, 3.000e+00, 4.000e+00, 5.000e+00,\n",
              "       6.000e+00, 7.000e+00, 8.000e+00, 9.000e+00, 1.000e+01, 1.100e+01,\n",
              "       1.200e+01, 1.300e+01, 1.400e+01, 1.500e+01, 1.700e+01, 1.800e+01,\n",
              "       1.900e+01, 2.000e+01, 2.100e+01, 2.200e+01, 2.300e+01, 2.400e+01,\n",
              "       2.700e+01, 2.800e+01, 2.900e+01, 3.000e+01, 3.100e+01, 3.200e+01,\n",
              "       3.300e+01, 3.400e+01, 3.500e+01, 3.600e+01, 3.700e+01, 3.800e+01,\n",
              "       4.000e+01, 5.100e+01, 5.900e+01, 6.800e+01, 6.900e+01, 7.400e+01,\n",
              "       7.500e+01, 7.600e+01, 7.700e+01, 7.900e+01, 8.400e+01, 8.500e+01,\n",
              "       9.900e+01, 1.000e+02, 1.020e+02, 1.030e+02, 1.040e+02, 1.050e+02,\n",
              "       1.060e+02, 1.070e+02, 1.100e+02, 1.120e+02, 1.130e+02, 1.140e+02,\n",
              "       1.210e+02, 1.220e+02, 1.230e+02, 1.240e+02, 1.250e+02, 1.270e+02,\n",
              "       1.280e+02, 1.290e+02, 1.300e+02, 1.310e+02, 1.320e+02, 1.330e+02,\n",
              "       1.370e+02, 1.400e+02, 1.410e+02, 1.420e+02, 1.430e+02, 1.450e+02,\n",
              "       1.460e+02, 1.470e+02, 1.490e+02, 1.500e+02, 1.510e+02, 1.540e+02,\n",
              "       1.550e+02, 1.560e+02, 1.570e+02, 1.580e+02, 1.590e+02, 1.600e+02,\n",
              "       1.610e+02, 1.620e+02, 1.630e+02, 1.640e+02, 1.650e+02, 1.660e+02,\n",
              "       1.670e+02, 1.680e+02, 1.710e+02, 1.720e+02, 1.730e+02, 1.740e+02,\n",
              "       1.750e+02, 1.760e+02, 1.770e+02, 1.780e+02, 1.790e+02, 1.800e+02,\n",
              "       1.810e+02, 1.820e+02, 1.830e+02, 1.840e+02, 1.850e+02, 1.860e+02,\n",
              "       1.870e+02, 1.880e+02, 1.890e+02, 1.900e+02, 1.910e+02, 1.920e+02,\n",
              "       1.930e+02, 1.940e+02, 1.950e+02, 1.960e+02, 1.980e+02, 2.000e+02,\n",
              "       2.010e+02, 2.020e+02, 2.030e+02, 2.040e+02, 2.050e+02, 2.060e+02,\n",
              "       2.070e+02, 2.080e+02, 2.090e+02, 2.100e+02, 2.120e+02, 2.130e+02,\n",
              "       2.140e+02, 2.150e+02, 2.160e+02, 2.170e+02, 2.180e+02, 2.190e+02,\n",
              "       2.210e+02, 2.220e+02, 2.230e+02, 2.240e+02, 2.270e+02, 2.280e+02,\n",
              "       2.290e+02, 2.300e+02, 2.310e+02, 2.320e+02, 2.330e+02, 2.340e+02,\n",
              "       2.350e+02, 2.370e+02, 2.380e+02, 2.390e+02, 2.400e+02, 2.420e+02,\n",
              "       2.430e+02, 2.440e+02, 2.450e+02, 2.470e+02, 2.480e+02, 2.490e+02,\n",
              "       2.510e+02, 2.520e+02, 2.530e+02, 2.540e+02, 2.550e+02, 2.570e+02,\n",
              "       2.580e+02, 2.600e+02, 2.610e+02, 2.620e+02, 2.630e+02, 2.640e+02,\n",
              "       2.650e+02, 2.660e+02, 2.670e+02, 2.680e+02, 2.690e+02, 2.700e+02,\n",
              "       2.710e+02, 2.720e+02, 2.730e+02, 2.740e+02, 2.750e+02, 2.760e+02,\n",
              "       2.770e+02, 2.780e+02, 2.790e+02, 2.810e+02, 2.820e+02, 2.830e+02,\n",
              "       2.840e+02, 2.850e+02, 2.860e+02, 2.870e+02, 2.880e+02, 2.890e+02,\n",
              "       2.900e+02, 2.910e+02, 2.920e+02, 2.930e+02, 2.940e+02, 2.960e+02,\n",
              "       2.970e+02, 2.980e+02, 2.990e+02, 3.000e+02, 3.010e+02, 3.020e+02,\n",
              "       3.030e+02, 3.040e+02, 3.050e+02, 3.060e+02, 3.070e+02, 3.080e+02,\n",
              "       3.090e+02, 3.100e+02, 3.110e+02, 3.120e+02, 3.130e+02, 3.140e+02,\n",
              "       3.150e+02, 3.160e+02, 3.170e+02, 3.180e+02, 3.190e+02, 3.200e+02,\n",
              "       3.210e+02, 3.220e+02, 3.230e+02, 3.240e+02, 3.250e+02, 3.260e+02,\n",
              "       3.280e+02, 3.290e+02, 3.310e+02, 3.320e+02, 3.350e+02, 3.370e+02,\n",
              "       3.380e+02, 3.420e+02, 3.430e+02, 3.440e+02, 3.450e+02, 3.460e+02,\n",
              "       3.470e+02, 3.480e+02, 3.490e+02, 3.500e+02, 3.510e+02, 3.530e+02,\n",
              "       3.540e+02, 3.550e+02, 3.560e+02, 3.570e+02, 3.580e+02, 3.590e+02,\n",
              "       3.600e+02, 3.610e+02, 3.620e+02, 3.630e+02, 3.650e+02, 3.670e+02,\n",
              "       3.680e+02, 3.690e+02, 3.700e+02, 3.710e+02, 3.730e+02, 3.740e+02,\n",
              "       3.750e+02, 3.770e+02, 3.780e+02, 3.790e+02, 3.800e+02, 3.820e+02,\n",
              "       3.830e+02, 3.840e+02, 3.850e+02, 3.870e+02, 3.880e+02, 3.890e+02,\n",
              "       3.900e+02, 3.910e+02, 3.920e+02, 3.930e+02, 3.940e+02, 3.950e+02,\n",
              "       3.960e+02, 3.980e+02, 4.020e+02, 4.030e+02, 4.040e+02, 4.050e+02,\n",
              "       4.060e+02, 4.070e+02, 4.080e+02, 4.090e+02, 4.100e+02, 4.110e+02,\n",
              "       4.120e+02, 4.130e+02, 4.140e+02, 4.150e+02, 4.160e+02, 4.170e+02,\n",
              "       4.180e+02, 4.190e+02, 4.200e+02, 4.220e+02, 4.230e+02, 4.240e+02,\n",
              "       4.250e+02, 4.260e+02, 4.270e+02, 4.300e+02, 4.310e+02, 4.330e+02,\n",
              "       4.340e+02, 4.350e+02, 4.360e+02, 4.370e+02, 4.380e+02, 4.390e+02,\n",
              "       4.400e+02, 4.410e+02, 4.420e+02, 4.440e+02, 4.450e+02, 4.460e+02,\n",
              "       4.480e+02, 4.490e+02, 4.500e+02, 4.510e+02, 4.530e+02, 4.540e+02,\n",
              "       4.550e+02, 4.560e+02, 4.570e+02, 4.580e+02, 4.600e+02, 4.610e+02,\n",
              "       4.620e+02, 4.630e+02, 4.640e+02, 4.650e+02, 4.660e+02, 4.680e+02,\n",
              "       4.690e+02, 4.700e+02, 4.720e+02, 4.750e+02, 4.760e+02, 4.780e+02,\n",
              "       4.790e+02, 4.800e+02, 4.810e+02, 4.820e+02, 4.850e+02, 4.870e+02,\n",
              "       4.890e+02, 4.920e+02, 4.930e+02, 5.030e+02, 5.090e+02, 5.160e+02,\n",
              "       5.170e+02, 5.230e+02, 5.240e+02, 5.280e+02, 5.290e+02, 5.370e+02,\n",
              "       5.480e+02, 5.490e+02, 5.500e+02, 5.530e+02, 5.550e+02, 5.600e+02,\n",
              "       5.670e+02, 5.690e+02, 5.700e+02, 5.720e+02, 5.730e+02, 5.740e+02,\n",
              "       5.750e+02, 5.760e+02, 5.770e+02, 5.780e+02, 5.790e+02, 5.800e+02,\n",
              "       5.810e+02, 5.820e+02, 5.830e+02, 5.850e+02, 5.860e+02, 5.870e+02,\n",
              "       5.880e+02, 5.890e+02, 5.900e+02, 5.910e+02, 5.930e+02, 5.950e+02,\n",
              "       5.960e+02, 5.970e+02, 5.980e+02, 5.990e+02, 6.000e+02, 6.010e+02,\n",
              "       6.020e+02, 6.030e+02, 6.040e+02, 6.050e+02, 6.060e+02, 6.070e+02,\n",
              "       6.080e+02, 6.090e+02, 6.110e+02, 6.140e+02, 6.160e+02, 6.180e+02,\n",
              "       6.190e+02, 6.200e+02, 6.210e+02, 6.220e+02, 6.230e+02, 6.240e+02,\n",
              "       6.270e+02, 6.280e+02, 6.300e+02, 6.310e+02, 6.320e+02, 6.330e+02,\n",
              "       6.340e+02, 6.350e+02, 6.360e+02, 6.370e+02, 6.390e+02, 6.400e+02,\n",
              "       6.420e+02, 6.440e+02, 6.470e+02, 6.490e+02, 6.520e+02, 6.530e+02,\n",
              "       6.560e+02, 6.570e+02, 6.580e+02, 6.590e+02, 6.600e+02, 6.610e+02,\n",
              "       6.640e+02, 6.670e+02, 6.700e+02, 6.710e+02, 6.720e+02, 6.730e+02,\n",
              "       6.740e+02, 6.750e+02, 6.780e+02, 6.830e+02, 6.840e+02, 6.850e+02,\n",
              "       6.860e+02, 6.880e+02, 6.890e+02, 6.900e+02, 6.910e+02, 6.920e+02,\n",
              "       6.930e+02, 6.940e+02, 6.950e+02, 6.970e+02, 6.980e+02, 6.990e+02,\n",
              "       7.000e+02, 7.010e+02, 7.020e+02, 7.040e+02, 7.050e+02, 7.070e+02,\n",
              "       7.090e+02, 7.100e+02, 7.110e+02, 7.120e+02, 7.130e+02, 7.140e+02,\n",
              "       7.150e+02, 7.160e+02, 7.170e+02, 7.180e+02, 7.200e+02, 7.210e+02,\n",
              "       7.220e+02, 7.290e+02, 7.300e+02, 7.390e+02, 7.400e+02, 7.410e+02,\n",
              "       7.430e+02, 7.450e+02, 7.470e+02, 7.530e+02, 7.580e+02, 7.630e+02,\n",
              "       7.640e+02, 7.690e+02, 7.710e+02, 7.870e+02, 7.900e+02, 7.910e+02,\n",
              "       7.930e+02, 7.970e+02, 7.990e+02, 8.010e+02, 8.060e+02, 8.090e+02,\n",
              "       8.100e+02, 8.130e+02, 8.140e+02, 8.190e+02, 8.220e+02, 8.400e+02,\n",
              "       8.420e+02, 8.460e+02, 8.480e+02, 8.690e+02, 8.830e+02, 8.900e+02,\n",
              "       8.920e+02, 9.030e+02, 9.040e+02, 9.090e+02, 9.100e+02, 9.110e+02,\n",
              "       9.140e+02, 9.150e+02, 9.180e+02, 9.250e+02, 9.270e+02, 9.420e+02,\n",
              "       9.440e+02, 9.450e+02, 9.500e+02, 9.550e+02, 9.570e+02, 9.590e+02,\n",
              "       9.740e+02, 9.770e+02, 9.900e+02, 1.002e+03, 1.004e+03, 1.023e+03,\n",
              "       1.027e+03, 1.031e+03, 1.032e+03, 1.034e+03, 1.036e+03, 1.039e+03,\n",
              "       1.040e+03, 1.045e+03, 1.050e+03, 1.051e+03, 1.053e+03, 1.055e+03,\n",
              "       1.056e+03, 1.057e+03, 1.058e+03, 1.059e+03, 1.060e+03, 1.063e+03,\n",
              "       1.064e+03, 1.065e+03, 1.066e+03, 1.067e+03, 1.068e+03, 1.070e+03,\n",
              "       1.072e+03, 1.073e+03, 1.075e+03, 1.076e+03, 1.079e+03, 1.080e+03,\n",
              "       1.081e+03, 1.082e+03, 1.083e+03, 1.084e+03, 1.085e+03, 1.086e+03,\n",
              "       1.087e+03, 1.088e+03, 1.089e+03, 1.092e+03, 1.093e+03, 1.097e+03,\n",
              "       1.098e+03, 1.099e+03, 1.100e+03, 1.101e+03, 1.104e+03, 1.105e+03,\n",
              "       1.106e+03, 1.108e+03, 1.110e+03, 1.111e+03, 1.112e+03, 1.115e+03,\n",
              "       1.151e+03, 1.154e+03, 1.155e+03, 1.156e+03, 1.157e+03, 1.158e+03,\n",
              "       1.159e+03, 1.186e+03, 1.187e+03, 1.188e+03, 1.195e+03, 1.196e+03,\n",
              "       1.197e+03, 1.200e+03, 1.205e+03, 1.219e+03, 1.226e+03, 1.229e+03,\n",
              "       1.230e+03, 1.231e+03, 1.232e+03, 1.238e+03, 1.239e+03, 1.240e+03,\n",
              "       1.242e+03, 1.243e+03, 1.244e+03, 1.246e+03, 1.248e+03, 1.249e+03,\n",
              "       1.250e+03, 1.251e+03, 1.252e+03, 1.253e+03, 1.254e+03, 1.255e+03,\n",
              "       1.256e+03, 1.258e+03, 1.260e+03, 1.261e+03, 1.263e+03, 1.264e+03,\n",
              "       1.265e+03, 1.267e+03, 1.269e+03, 1.270e+03, 1.271e+03, 1.272e+03,\n",
              "       1.273e+03, 1.274e+03, 1.275e+03, 1.276e+03, 1.277e+03, 1.278e+03])"
            ]
          },
          "metadata": {},
          "execution_count": 7
        }
      ]
    },
    {
      "cell_type": "markdown",
      "source": [
        "det: has a shape of (50, 19, 6), which suggests it contains detection data for 50 samples, with possibly up to 19 detections per sample, and each detection is characterized by 6 attributes."
      ],
      "metadata": {
        "id": "2mFLGFJUu3lW"
      }
    },
    {
      "cell_type": "markdown",
      "source": [
        "data: Extracted 4096-dim features with shape (50, 20, 4096). It contains frame-level feature with shape (50, 1, 4096) and 19 box-level features with shape (50, 19, 4096)."
      ],
      "metadata": {
        "id": "2tbWc2_rvORI"
      }
    },
    {
      "cell_type": "code",
      "source": [
        "# We'll adapt the provided code to run within this environment and to work with the uploaded video file.\n",
        "\n",
        "import cv2\n",
        "from pathlib import Path\n",
        "\n",
        "# Since the annotation file was not uploaded, we'll create a mock annotation for demonstration.\n",
        "# This is a simplified version and won't have all the details mentioned in the provided code.\n",
        "mock_anno_data = [{\n",
        "    'vid': '000001',\n",
        "    'label': [1 if i < 25 else 0 for i in range(50)],  # Mock labels: first 25 frames 'Accident', rest 'Normal'\n",
        "    'startframe': '0',\n",
        "    'vid_ytb': '',\n",
        "    'lighting': '',\n",
        "    'weather': '',\n",
        "    'ego_involve': ''\n",
        "}]\n",
        "\n",
        "# Function to get the top N video frames\n",
        "def get_video_frames(video_file_path, topN=50):\n",
        "    cap = cv2.VideoCapture(video_file_path)\n",
        "    ret, frame = cap.read()\n",
        "    video_data = []\n",
        "    while ret and len(video_data) < topN:\n",
        "        video_data.append(frame)\n",
        "        ret, frame = cap.read()\n",
        "    cap.release()\n",
        "    print(f\"original # frames: {len(video_data)}\")\n",
        "    return video_data\n",
        "\n",
        "# Path to the uploaded video file\n",
        "video_file_path = '000001.mp4'\n",
        "\n",
        "# Use the mock annotation data to annotate the first frame\n",
        "video_frames = get_video_frames(video_file_path, topN=50)\n",
        "first_frame = video_frames[0]\n",
        "label = mock_anno_data[0]['label'][0]\n",
        "\n",
        "# Annotate the first frame based on the label\n",
        "annotation_text = 'Accident' if label == 1 else 'Normal'\n",
        "annotated_frame = cv2.putText(first_frame.copy(), annotation_text,\n",
        "                              (int(first_frame.shape[1] / 2) - 60, 60),\n",
        "                              cv2.FONT_HERSHEY_SIMPLEX, 2, (0, 0, 255) if label == 1 else (0, 255, 255),\n",
        "                              2, cv2.LINE_AA)\n",
        "\n",
        "# Save the annotated frame to a file to display it\n",
        "annotated_frame_path = 'annotated_frame.png'\n",
        "cv2.imwrite(annotated_frame_path, annotated_frame)\n"
      ],
      "metadata": {
        "colab": {
          "base_uri": "https://localhost:8080/"
        },
        "id": "jQ4fR-hozLPd",
        "outputId": "0210446a-21fb-4a6e-fe90-988fcd95fc03"
      },
      "execution_count": null,
      "outputs": [
        {
          "output_type": "stream",
          "name": "stdout",
          "text": [
            "original # frames: 50\n"
          ]
        },
        {
          "output_type": "execute_result",
          "data": {
            "text/plain": [
              "True"
            ]
          },
          "metadata": {},
          "execution_count": 19
        }
      ]
    },
    {
      "cell_type": "code",
      "source": [
        "from PIL import Image\n",
        "# Get the first detection bounding box coordinates for the first frame\n",
        "det_bbox = det_array[0][0, :4]\n",
        "\n",
        "# Convert coordinates to integer for drawing\n",
        "det_bbox = tuple(map(int, det_bbox))\n",
        "\n",
        "# Draw the bounding box on the first frame\n",
        "frame_with_box = cv2.rectangle(first_frame.copy(), det_bbox[:2], det_bbox[2:], (255, 0, 0), 2)\n",
        "\n",
        "# Save the frame with the bounding box to a file to display it\n",
        "frame_with_box_path = 'frame_with_box.png'\n",
        "cv2.imwrite(frame_with_box_path, frame_with_box)\n",
        "\n",
        "edited_image_path = 'frame_with_box.png'\n",
        "edited_image = Image.open(edited_image_path)\n",
        "\n",
        "# Display the image\n",
        "edited_image.show()"
      ],
      "metadata": {
        "id": "FwMtsJfZzkp4"
      },
      "execution_count": null,
      "outputs": []
    }
  ]
}